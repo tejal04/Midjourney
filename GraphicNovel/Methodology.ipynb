{
 "cells": [
  {
   "cell_type": "markdown",
   "metadata": {},
   "source": [
    "# GRAPHIC NOVEL USING GENERATIVE AI\n",
    "\n",
    "## STORY : Little Red Riding Hood \n",
    "Link : https://www.gutenberg.org/files/2591/2591-h/2591-h.htm#link2H_4_0023"
   ]
  },
  {
   "cell_type": "markdown",
   "metadata": {},
   "source": [
    "### Identifying Key Elements is the story\n",
    "\n",
    "1. **Characters**:\n",
    "\n",
    "- Little Red-Cap : The protagonist, a young girl loved by everyone, who wears a distinctive red velvet cap.\n",
    "- The Mother: Little Red-Cap's mother, who gives her the task of visiting her grandmother.\n",
    "- The Grandmother: Little Red-Cap's beloved grandmother, who lives in the woods.\n",
    "- The Wolf: The antagonist, a cunning and deceitful character who preys on Little Red-Cap and her grandmother.\n",
    "- The Huntsman : The huntsman is a skilled a hunter who happens to be passing by the grandmother's house. He intervenes to save Little Red-Cap and her grandmother from the wolf's deception.\n",
    "\n",
    "2. **Setting**:\n",
    "\n",
    "- The Village: Little Red-Cap's starting point, where she receives the task from her mother.\n",
    "- The Woods: The forest that Little Red-Cap traverses on her way to her grandmother's house.\n",
    "- The Grandmother's House: A cottage in the woods where the grandmother resides.\n",
    "\n",
    "3. **Plot Points**:\n",
    "\n",
    "- Little Red-Cap's Task: Little Red-Cap is given the task by her mother to visit her sick grandmother, carrying a basket with cake and wine.\n",
    "- Encounter with the Wolf: Little Red-Cap encounters the wolf in the woods, unaware of his deceitful nature.\n",
    "- Deception and Devouring: The wolf deceives Little Red-Cap and, later, the grandmother, devouring them both.\n",
    "- Huntsman's Intervention: A huntsman passing by the grandmother's house intervenes, saving Little Red-Cap and her grandmother by cutting open the wolf's stomach.\n",
    "- Moral Lesson: The story imparts moral lessons about obedience, caution, and the consequences of straying from the path.\n",
    "\n",
    "4. **Symbolism**: \n",
    "\n",
    "- The Red Velvet Cap : The red velvet cap worn by Little Red-Cap symbolizes innocence and vulnerability. Red is a color often associated with strong emotions, and in this context, it represents the purity and naivety of the young protagonist. The cap becomes a distinctive feature, marking her as the central character in the story.\n",
    "\n",
    "- The Woods : The woods represent the unknown and potentially dangerous aspects of life. Traditionally, forests have been symbolic of mystery, transformation, and the journey into the unfamiliar. Little Red-Cap's venture into the woods becomes a metaphor for the challenges and unexpected dangers one may encounter on the path of life.\n",
    "\n",
    "- The Wolf : The wolf represents deceit, danger, and the consequences of greed. The wolf embodies both the physical threat in the woods and a metaphorical representation of the dangers that lurk in the world. It serves as a cautionary symbol, warning against trusting appearances and the potential harm that can arise from greed and deception.\n",
    "\n",
    "- The Huntsman : The huntsman symbolizes intervention, protection, and the potential for redemption. His role is pivotal in saving Little Red-Cap and her grandmother from the threat of the wolf. The huntsman's actions emphasize the idea that external help, represented by someone skilled and protective, can play a crucial role in overcoming challenges.\n",
    "\n",
    "5. **Themes**: \n",
    "\n",
    "- Caution and Obedience: The importance of following instructions and staying on the designated path.\n",
    "- Deception and Consequences: The consequences of trusting strangers and the dangers of deceit.\n",
    "- Redemption and Intervention: The role of external forces (the huntsman) in saving the characters from harm."
   ]
  },
  {
   "cell_type": "markdown",
   "metadata": {},
   "source": [
    "### Descriptive Prompts for the Characters \n",
    "\n",
    "##### Little Red Cap \n",
    "1. /imagine Little Red Ridding Hood, young innocent girl, living in woods, wearing a red velvet cap with intricate design\n",
    "<br> <br>\n",
    "The output has different style ranging from comic to realistic. Also, the age of girl ranges as kid to teen, which was randomly selected. "
   ]
  },
  {
   "cell_type": "markdown",
   "metadata": {},
   "source": [
    "<img src=\"images/image-1.png\" alt=\"\" style=\"width: 500px;\"/>"
   ]
  },
  {
   "cell_type": "markdown",
   "metadata": {},
   "source": [
    "2. /imagine Little Red Ridding Hood, young innocent girl, living in woods, wearing a red velvet cap with intricate design, Baroque art style, --ar 2:3\n",
    "<br><br>\n",
    "Added Baroque style illustrations & aspect of 2:3\n",
    "\n",
    "<img src=\"images/image-2.png\" alt=\"\" style=\"width: 300px;\"/>"
   ]
  },
  {
   "cell_type": "markdown",
   "metadata": {},
   "source": [
    "3. /imagine Little Red Ridding Hood, young innocent happy 16 year old girl, brown eyes, dark brown hair, living in woods, wearing a red velvet cap with intricate design, storyboard illustration style art, sketch concept story board \n",
    "\n",
    "<img src=\"images/image-3.png\" alt=\"\" style=\"width: 500px;\"/>"
   ]
  },
  {
   "cell_type": "markdown",
   "metadata": {},
   "source": [
    "4. /imagine comic book strip Little Red Ridding Hood, young innocent happy 16 year old girl, brown eyes, dark brown hair, living in woods, wearing a red velvet cap with intricate design, storyboard illustration style art, sketch concept story board, story board –s 750\n",
    "\n",
    "<img src=\"images/image-4.png\" alt=\"\" style=\"width: 500px;\"/>\n"
   ]
  },
  {
   "cell_type": "markdown",
   "metadata": {},
   "source": [
    "### Scene Generation using ChatGPT3\n",
    "\n",
    "- Introduction: <br>\n",
    "Panel 1: Little Red-Cap's mother hands her the red velvet cap. <br>\n",
    "Panel 2: Little Red-Cap happily putting on the red velvet cap.<br>\n",
    "Panel 3: Little Red-Cap holding a basket with cake and wine, ready to visit her grandmother.<br>\n",
    "\n",
    "- Meeting the Wolf:<br>\n",
    "Panel 1: Little Red-Cap strolling through the woods.<br>\n",
    "Panel 2: The wolf appears, greeting Little Red-Cap.<br>\n",
    "Panel 3: The wolf inquires about her destination and the contents of her basket.<br>\n",
    "\n",
    "- Diverging Paths:<br>\n",
    "Panel 1: Little Red-Cap being cautioned by her mother not to stray from the path.<br>\n",
    "Panel 2: Little Red-Cap, tempted by the flowers, veers off the path.<br>\n",
    "Panel 3: The wolf, slyly watching her, plans his deceit.<br>\n",
    "\n",
    "- Grandmother's Cottage:<br>\n",
    "Panel 1: Little Red-Cap arrives at her grandmother's cottage.<br>\n",
    "Panel 2: The wolf, having reached the cottage first, knocks on the door.<br>\n",
    "Panel 3: The wolf disguised as the grandmother invites Little Red-Cap inside.<br>\n",
    "\n",
    "- Revelation:<br>\n",
    "Panel 1: Little Red-Cap notices strange features of her \"grandmother.\" <br>\n",
    "Panel 2: The wolf reveals his true identity and intentions.<br>\n",
    "Panel 3: The wolf lunges at Little Red-Cap.<br>\n",
    "\n",
    "- Rescue:<br>\n",
    "Panel 1: A huntsman passing by hears the commotion.<br>\n",
    "Panel 2: The huntsman enters the cottage and discovers the wolf in bed.<br>\n",
    "Panel 3: The huntsman, realizing the wolf has swallowed Little Red-Cap, prepares to rescue her.<br>\n",
    "\n",
    "- Escape:<br>\n",
    "Panel 1: The huntsman cuts open the wolf's stomach.<br>\n",
    "Panel 2: Little Red-Cap and her grandmother emerge from the wolf's belly.<br>\n",
    "Panel 3: Red-Cap gathers stones to fill the wolf's belly.<br>\n",
    "\n",
    "- Victory:<br>\n",
    "Panel 1: The wolf, unable to escape, collapses and dies.<br>\n",
    "Panel 2: The huntsman collects the wolf's skin.<br>\n",
    "Panel 3: Little Red-Cap, her grandmother, and the huntsman celebrate their victory.<br>\n",
    "\n",
    "- Lesson Learned:<br>\n",
    "Panel 1: Little Red-Cap reflects on the experience.<br>\n",
    "Panel 2: Little Red-Cap, with her grandmother, reaffirms to herself never to stray from the path.<br>\n",
    "Panel 3: The final scene shows a content and cautious Little Red-Cap heading home.<br>\n",
    "\n"
   ]
  },
  {
   "cell_type": "markdown",
   "metadata": {},
   "source": []
  },
  {
   "cell_type": "markdown",
   "metadata": {},
   "source": [
    "### Illustration Style \n",
    "- storyboard illustration style art, sketch concept story board, story board –s 750\n"
   ]
  },
  {
   "cell_type": "markdown",
   "metadata": {},
   "source": [
    "### Character Generation\n",
    "https://www.youtube.com/watch?v=Z7_ta3RHijQ"
   ]
  }
 ],
 "metadata": {
  "language_info": {
   "name": "python"
  },
  "orig_nbformat": 4
 },
 "nbformat": 4,
 "nbformat_minor": 2
}
